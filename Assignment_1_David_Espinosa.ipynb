{
  "nbformat": 4,
  "nbformat_minor": 0,
  "metadata": {
    "colab": {
      "provenance": [],
      "authorship_tag": "ABX9TyOBrRqg8JkGxae03w5U3ttF",
      "include_colab_link": true
    },
    "kernelspec": {
      "name": "python3",
      "display_name": "Python 3"
    },
    "language_info": {
      "name": "python"
    }
  },
  "cells": [
    {
      "cell_type": "markdown",
      "metadata": {
        "id": "view-in-github",
        "colab_type": "text"
      },
      "source": [
        "<a href=\"https://colab.research.google.com/github/c04chd03/Hello-World-/blob/master/Assignment_1_David_Espinosa.ipynb\" target=\"_parent\"><img src=\"https://colab.research.google.com/assets/colab-badge.svg\" alt=\"Open In Colab\"/></a>"
      ]
    },
    {
      "cell_type": "code",
      "execution_count": 29,
      "metadata": {
        "id": "y_S4XCykrnq_"
      },
      "outputs": [],
      "source": [
        "# Importing the libraries\n",
        "\n",
        "import pandas as pd\n",
        "import numpy\n",
        "import math\n",
        "import matplotlib as plt"
      ]
    },
    {
      "cell_type": "code",
      "source": [
        "# Reading the CSV file, previously uploaded in Colab project files\n",
        "data = pd.read_csv('/content/data.csv')\n",
        "#print(data) Used to test printed values on screen"
      ],
      "metadata": {
        "id": "2d7b13JVsakI"
      },
      "execution_count": null,
      "outputs": []
    },
    {
      "cell_type": "code",
      "source": [
        "#\tDefine the location of the unknown sample\n",
        "X_unknown_circle = 3\n",
        "Y_unknown_circle = -2"
      ],
      "metadata": {
        "id": "oW_m9x3YGnfL"
      },
      "execution_count": 31,
      "outputs": []
    },
    {
      "cell_type": "code",
      "source": [
        "# Write a for loop to compute the Euclidean distance between the unknown circle and each circle in the dataset\n",
        "min_distance = float(\"inf\")\n",
        "#predicted_color = ''\n",
        "\n",
        "for i in range(len(data)):\n",
        "  # Get x and y coordinates of the current data point\n",
        "  x = data.iloc[i, 0]\n",
        "  y = data.iloc[i, 1]\n",
        "  #Compute the Euclidean distance by using the formula using math library\n",
        "  distance = math.sqrt((x - X_unknown_circle) ** 2 + (y - Y_unknown_circle) ** 2)\n",
        "  # Check if current distance is less than the minimum distance seen so far\n",
        "  if distance < min_distance:\n",
        "    min_distance = distance\n",
        "    predicted_color = data.iloc[i, 2]"
      ],
      "metadata": {
        "id": "5nlD6S4ULuEi"
      },
      "execution_count": 41,
      "outputs": []
    },
    {
      "cell_type": "code",
      "source": [
        "# Print the predicted color of the unknown circle\n",
        "print(\"The predicted color of the unknown circle is:\", predicted_color)"
      ],
      "metadata": {
        "colab": {
          "base_uri": "https://localhost:8080/"
        },
        "id": "9CGhNxNONfYT",
        "outputId": "c6f61941-99fc-4d5f-8a7b-471c6f1d28fa"
      },
      "execution_count": 38,
      "outputs": [
        {
          "output_type": "stream",
          "name": "stdout",
          "text": [
            "The predicted color of the unknown circle is: blue\n"
          ]
        }
      ]
    }
  ]
}