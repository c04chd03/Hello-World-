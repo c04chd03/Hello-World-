{
  "nbformat": 4,
  "nbformat_minor": 0,
  "metadata": {
    "colab": {
      "provenance": [],
      "include_colab_link": true
    },
    "kernelspec": {
      "name": "python3",
      "display_name": "Python 3"
    },
    "language_info": {
      "name": "python"
    }
  },
  "cells": [
    {
      "cell_type": "markdown",
      "metadata": {
        "id": "view-in-github",
        "colab_type": "text"
      },
      "source": [
        "<a href=\"https://colab.research.google.com/github/c04chd03/Hello-World-/blob/master/assignment2.ipynb\" target=\"_parent\"><img src=\"https://colab.research.google.com/assets/colab-badge.svg\" alt=\"Open In Colab\"/></a>"
      ]
    },
    {
      "cell_type": "markdown",
      "source": [
        "# Importing required libararies "
      ],
      "metadata": {
        "id": "h_uKBpeAhcbq"
      }
    },
    {
      "cell_type": "code",
      "execution_count": 4,
      "metadata": {
        "id": "5078Nkw8f9F0"
      },
      "outputs": [],
      "source": [
        "import pandas as pd\n",
        "import numpy as np\n",
        "import scipy.special as sps\n",
        "import matplotlib.pyplot as plt"
      ]
    },
    {
      "cell_type": "markdown",
      "source": [
        "# Loading data "
      ],
      "metadata": {
        "id": "j9WiuDRJht9O"
      }
    },
    {
      "cell_type": "code",
      "source": [
        "data = pd.read_csv('/content/data.csv')"
      ],
      "metadata": {
        "id": "fFvL3R_nhcG7"
      },
      "execution_count": 6,
      "outputs": []
    },
    {
      "cell_type": "markdown",
      "source": [
        "# Coverting dataframe to a numpy array "
      ],
      "metadata": {
        "id": "iyGnCpYyiJ3U"
      }
    },
    {
      "cell_type": "code",
      "source": [
        "data = np.array(data)"
      ],
      "metadata": {
        "id": "bBujwPJ-iAkv"
      },
      "execution_count": 7,
      "outputs": []
    },
    {
      "cell_type": "markdown",
      "source": [
        "# Reading input and output array from data"
      ],
      "metadata": {
        "id": "CVSI4XNdiDvz"
      }
    },
    {
      "cell_type": "code",
      "source": [
        "X = data[:,:3]\n",
        "Y = data[:,3]"
      ],
      "metadata": {
        "id": "rFzt5p9niXav"
      },
      "execution_count": 8,
      "outputs": []
    },
    {
      "cell_type": "markdown",
      "source": [
        "# Initializing parameters"
      ],
      "metadata": {
        "id": "xCbKceldiay6"
      }
    },
    {
      "cell_type": "code",
      "source": [
        "w = np.random.rand (3,)"
      ],
      "metadata": {
        "id": "joqN32tCif73"
      },
      "execution_count": 9,
      "outputs": []
    },
    {
      "cell_type": "code",
      "source": [
        "# Maximum number of iterations.\n",
        "max_iter = 500\n",
        "\n",
        "# define an error vector to save all error values over all iterations.\n",
        "error_all = []\n",
        "\n",
        "# Learning rate for gradient descent.\n",
        "eta = 0.5"
      ],
      "metadata": {
        "id": "NnEe9SVyiiix"
      },
      "execution_count": 10,
      "outputs": []
    },
    {
      "cell_type": "markdown",
      "source": [
        "# Training process in a for loop"
      ],
      "metadata": {
        "id": "KZOGIkfZiyhj"
      }
    },
    {
      "cell_type": "code",
      "source": [
        "for iter in range (0,max_iter):\n",
        "    \n",
        "\n",
        "    Y_hat = sps.expit(np.dot(X,w))\n",
        "    \n",
        "# =============================================================================\n",
        "#     Compute the error below\n",
        "# =============================================================================\n",
        "    e = 0\n",
        "    \n",
        "    # Add this error to the end of error vector.\n",
        "    e = -1/max_iter * np.sum( np.multiply(np.log(Y_hat), Y) + np.multiply(np.log(1-Y_hat), (1-Y)))\n",
        "\n",
        "    #append error value in the error_all vector\n",
        "    error_all.append(e)\n",
        "    \n",
        "    # Gradient of the error\n",
        "    grad_e = np.mean(np.multiply((Y_hat - Y), X.T), axis=1)\n",
        "    \n",
        "    w_old = w\n",
        "    w = w - eta*grad_e\n",
        "    \n",
        "    \n",
        "    print ('epoch {0:d}, negative log-likelihood {1:.4f}, w={2}'.format(iter, e, w.T))"
      ],
      "metadata": {
        "id": "gtOUEs-gjqWv",
        "outputId": "d70a3359-bafa-4b69-cc80-62a74ff8c460",
        "colab": {
          "base_uri": "https://localhost:8080/"
        }
      },
      "execution_count": 11,
      "outputs": [
        {
          "output_type": "stream",
          "name": "stdout",
          "text": [
            "epoch 0, negative log-likelihood 0.8512, w=[-0.60319105  0.21320248  0.68824858]\n",
            "epoch 1, negative log-likelihood 0.7320, w=[0.90072238 0.08011785 0.89818686]\n",
            "epoch 2, negative log-likelihood 1.0919, w=[-0.33359692 -0.11178943  0.65156882]\n",
            "epoch 3, negative log-likelihood 0.4153, w=[ 0.76878091 -0.21968851  0.7881303 ]\n",
            "epoch 4, negative log-likelihood 0.8947, w=[-0.45559402 -0.40905663  0.54343807]\n",
            "epoch 5, negative log-likelihood 0.5296, w=[ 0.90683132 -0.48838628  0.72422434]\n",
            "epoch 6, negative log-likelihood 0.9773, w=[-0.32490084 -0.67623155  0.47767401]\n",
            "epoch 7, negative log-likelihood 0.3957, w=[ 0.77758655 -0.71007546  0.61222052]\n",
            "epoch 8, negative log-likelihood 0.7959, w=[-0.43388886 -0.89188669  0.36976961]\n",
            "epoch 9, negative log-likelihood 0.5086, w=[ 0.86755134 -0.92810718  0.53836165]\n",
            "epoch 10, negative log-likelihood 0.8373, w=[-0.34654153 -1.10833528  0.29525739]\n",
            "epoch 11, negative log-likelihood 0.4293, w=[ 0.78311537 -1.11074147  0.43389272]\n",
            "epoch 12, negative log-likelihood 0.7108, w=[-0.39549985 -1.27778913  0.19766349]\n",
            "epoch 13, negative log-likelihood 0.4861, w=[ 0.81311239 -1.28102467  0.34976135]\n",
            "epoch 14, negative log-likelihood 0.7008, w=[-0.35129416 -1.4409006   0.11617736]\n",
            "epoch 15, negative log-likelihood 0.4551, w=[ 0.77180085 -1.42620817  0.25373668]\n",
            "epoch 16, negative log-likelihood 0.6279, w=[-0.34385065 -1.56724218  0.0291031 ]\n",
            "epoch 17, negative log-likelihood 0.4598, w=[ 0.76498702 -1.54606219  0.16438438]\n",
            "epoch 18, negative log-likelihood 0.5933, w=[-0.31278676 -1.67225614 -0.05346991]\n",
            "epoch 19, negative log-likelihood 0.4437, w=[ 0.74472088 -1.64141705  0.07338098]\n",
            "epoch 20, negative log-likelihood 0.5517, w=[-0.28441385 -1.7499047  -0.13590222]\n",
            "epoch 21, negative log-likelihood 0.4305, w=[ 0.73175349 -1.71201852 -0.01571396]\n",
            "epoch 22, negative log-likelihood 0.5209, w=[-0.2556032  -1.80596338 -0.21768714]\n",
            "epoch 23, negative log-likelihood 0.4170, w=[ 0.72227668 -1.76240594 -0.10358798]\n",
            "epoch 24, negative log-likelihood 0.4960, w=[-0.22934488 -1.84454182 -0.29930796]\n",
            "epoch 25, negative log-likelihood 0.4055, w=[ 0.71788038 -1.79688259 -0.18998879]\n",
            "epoch 26, negative log-likelihood 0.4772, w=[-0.20602195 -1.87027532 -0.38082639]\n",
            "epoch 27, negative log-likelihood 0.3960, w=[ 0.71807356 -1.81978393 -0.27501695]\n",
            "epoch 28, negative log-likelihood 0.4632, w=[-0.18537049 -1.88698709 -0.46220464]\n",
            "epoch 29, negative log-likelihood 0.3884, w=[ 0.72199197 -1.83461458 -0.35883445]\n",
            "epoch 30, negative log-likelihood 0.4527, w=[-0.16685393 -1.89756685 -0.54336398]\n",
            "epoch 31, negative log-likelihood 0.3821, w=[ 0.72868889 -1.84398696 -0.44161498]\n",
            "epoch 32, negative log-likelihood 0.4449, w=[-0.14992511 -1.90407263 -0.62422429]\n",
            "epoch 33, negative log-likelihood 0.3769, w=[ 0.73733722 -1.84974661 -0.52350912]\n",
            "epoch 34, negative log-likelihood 0.4387, w=[-0.13412738 -1.90791602 -0.70471876]\n",
            "epoch 35, negative log-likelihood 0.3724, w=[ 0.7472905  -1.85315265 -0.60463401]\n",
            "epoch 36, negative log-likelihood 0.4338, w=[-0.11911584 -1.91004008 -0.78479683]\n",
            "epoch 37, negative log-likelihood 0.3683, w=[ 0.7580764  -1.85504297 -0.68507482]\n",
            "epoch 38, negative log-likelihood 0.4296, w=[-0.10464545 -1.91106253 -0.8644223 ]\n",
            "epoch 39, negative log-likelihood 0.3645, w=[ 0.76936516 -1.8559647  -0.76489058]\n",
            "epoch 40, negative log-likelihood 0.4259, w=[-0.09054923 -1.9113818  -0.94357013]\n",
            "epoch 41, negative log-likelihood 0.3610, w=[ 0.78093409 -1.85626985 -0.84412076]\n",
            "epoch 42, negative log-likelihood 0.4225, w=[-0.07671678 -1.91125184 -1.02222335]\n",
            "epoch 43, negative log-likelihood 0.3576, w=[ 0.79263633 -1.85618233 -0.92279091]\n",
            "epoch 44, negative log-likelihood 0.4193, w=[-0.06307666 -1.91083301 -1.10037049]\n",
            "epoch 45, negative log-likelihood 0.3544, w=[ 0.80437675 -1.85584331 -1.00091713]\n",
            "epoch 46, negative log-likelihood 0.4163, w=[-0.04958341 -1.91022585 -1.17800375]\n",
            "epoch 47, negative log-likelihood 0.3512, w=[ 0.8160945  -1.85534121 -1.07850919]\n",
            "epoch 48, negative log-likelihood 0.4133, w=[-0.03620851 -1.90949313 -1.25511772]\n",
            "epoch 49, negative log-likelihood 0.3480, w=[ 0.82775095 -1.85473111 -1.15557281]\n",
            "epoch 50, negative log-likelihood 0.4104, w=[-0.02293419 -1.90867385 -1.3317085 ]\n",
            "epoch 51, negative log-likelihood 0.3449, w=[ 0.83932173 -1.85404722 -1.23211109]\n",
            "epoch 52, negative log-likelihood 0.4076, w=[-0.00974958 -1.90779221 -1.40777316]\n",
            "epoch 53, negative log-likelihood 0.3418, w=[ 0.85079149 -1.85331075 -1.30812548]\n",
            "epoch 54, negative log-likelihood 0.4047, w=[ 0.00335196 -1.90686323 -1.4833094 ]\n",
            "epoch 55, negative log-likelihood 0.3388, w=[ 0.86215055 -1.85253482 -1.38361641]\n",
            "epoch 56, negative log-likelihood 0.4019, w=[ 0.01637438 -1.90589623 -1.55831531]\n",
            "epoch 57, negative log-likelihood 0.3358, w=[ 0.87339277 -1.85172756 -1.45858369]\n",
            "epoch 58, negative log-likelihood 0.3990, w=[ 0.02931998 -1.90489704 -1.63278925]\n",
            "epoch 59, negative log-likelihood 0.3329, w=[ 0.88451425 -1.85089402 -1.53302674]\n",
            "epoch 60, negative log-likelihood 0.3962, w=[ 0.04219006 -1.90386931 -1.70672972]\n",
            "epoch 61, negative log-likelihood 0.3299, w=[ 0.89551246 -1.85003736 -1.60694477]\n",
            "epoch 62, negative log-likelihood 0.3934, w=[ 0.05498528 -1.90281538 -1.78013539]\n",
            "epoch 63, negative log-likelihood 0.3270, w=[ 0.90638573 -1.84915959 -1.68033685]\n",
            "epoch 64, negative log-likelihood 0.3906, w=[ 0.06770594 -1.9017368  -1.85300498]\n",
            "epoch 65, negative log-likelihood 0.3241, w=[ 0.91713293 -1.84826201 -1.753202  ]\n",
            "epoch 66, negative log-likelihood 0.3878, w=[ 0.0803521  -1.9006346  -1.92533729]\n",
            "epoch 67, negative log-likelihood 0.3213, w=[ 0.92775327 -1.84734548 -1.82553921]\n",
            "epoch 68, negative log-likelihood 0.3850, w=[ 0.09292369 -1.89950954 -1.99713121]\n",
            "epoch 69, negative log-likelihood 0.3184, w=[ 0.93824618 -1.84641061 -1.89734748]\n",
            "epoch 70, negative log-likelihood 0.3822, w=[ 0.10542058 -1.89836217 -2.06838564]\n",
            "epoch 71, negative log-likelihood 0.3156, w=[ 0.94861121 -1.84545786 -1.96862583]\n",
            "epoch 72, negative log-likelihood 0.3794, w=[ 0.11784257 -1.89719296 -2.13909957]\n",
            "epoch 73, negative log-likelihood 0.3129, w=[ 0.95884803 -1.84448758 -2.03937328]\n",
            "epoch 74, negative log-likelihood 0.3766, w=[ 0.13018946 -1.89600231 -2.20927199]\n",
            "epoch 75, negative log-likelihood 0.3101, w=[ 0.96895638 -1.84350009 -2.1095889 ]\n",
            "epoch 76, negative log-likelihood 0.3738, w=[ 0.14246103 -1.89479057 -2.27890199]\n",
            "epoch 77, negative log-likelihood 0.3074, w=[ 0.97893602 -1.84249566 -2.17927181]\n",
            "epoch 78, negative log-likelihood 0.3710, w=[ 0.15465705 -1.89355811 -2.34798868]\n",
            "epoch 79, negative log-likelihood 0.3047, w=[ 0.98878679 -1.84147455 -2.24842113]\n",
            "epoch 80, negative log-likelihood 0.3682, w=[ 0.16677732 -1.89230524 -2.41653121]\n",
            "epoch 81, negative log-likelihood 0.3020, w=[ 0.99850854 -1.84043702 -2.31703606]\n",
            "epoch 82, negative log-likelihood 0.3654, w=[ 0.17882163 -1.8910323  -2.48452879]\n",
            "epoch 83, negative log-likelihood 0.2994, w=[ 1.00810116 -1.83938332 -2.38511581]\n",
            "epoch 84, negative log-likelihood 0.3626, w=[ 0.19078977 -1.88973962 -2.55198069]\n",
            "epoch 85, negative log-likelihood 0.2968, w=[ 1.01756458 -1.8383137  -2.45265967]\n",
            "epoch 86, negative log-likelihood 0.3598, w=[ 0.20268155 -1.88842753 -2.61888622]\n",
            "epoch 87, negative log-likelihood 0.2942, w=[ 1.02689875 -1.83722842 -2.51966694]\n",
            "epoch 88, negative log-likelihood 0.3571, w=[ 0.21449678 -1.88709636 -2.68524474]\n",
            "epoch 89, negative log-likelihood 0.2916, w=[ 1.03610366 -1.83612772 -2.586137  ]\n",
            "epoch 90, negative log-likelihood 0.3543, w=[ 0.2262353  -1.88574644 -2.75105569]\n",
            "epoch 91, negative log-likelihood 0.2891, w=[ 1.04517934 -1.83501188 -2.65206926]\n",
            "epoch 92, negative log-likelihood 0.3515, w=[ 0.23789692 -1.88437812 -2.81631852]\n",
            "epoch 93, negative log-likelihood 0.2865, w=[ 1.05412583 -1.83388114 -2.71746319]\n",
            "epoch 94, negative log-likelihood 0.3488, w=[ 0.24948148 -1.88299172 -2.8810328 ]\n",
            "epoch 95, negative log-likelihood 0.2840, w=[ 1.06294324 -1.83273579 -2.78231832]\n",
            "epoch 96, negative log-likelihood 0.3460, w=[ 0.26098885 -1.8815876  -2.94519813]\n",
            "epoch 97, negative log-likelihood 0.2816, w=[ 1.07163168 -1.83157607 -2.84663421]\n",
            "epoch 98, negative log-likelihood 0.3433, w=[ 0.27241886 -1.8801661  -3.00881416]\n",
            "epoch 99, negative log-likelihood 0.2791, w=[ 1.08019134 -1.83040228 -2.91041053]\n",
            "epoch 100, negative log-likelihood 0.3405, w=[ 0.28377139 -1.87872757 -3.07188066]\n",
            "epoch 101, negative log-likelihood 0.2767, w=[ 1.0886224  -1.82921468 -2.97364697]\n",
            "epoch 102, negative log-likelihood 0.3378, w=[ 0.29504631 -1.87727234 -3.13439741]\n",
            "epoch 103, negative log-likelihood 0.2743, w=[ 1.09692513 -1.82801355 -3.0363433 ]\n",
            "epoch 104, negative log-likelihood 0.3350, w=[ 0.30624349 -1.87580079 -3.19636432]\n",
            "epoch 105, negative log-likelihood 0.2719, w=[ 1.10509981 -1.82679917 -3.09849937]\n",
            "epoch 106, negative log-likelihood 0.3323, w=[ 0.31736282 -1.87431326 -3.25778134]\n",
            "epoch 107, negative log-likelihood 0.2696, w=[ 1.11314677 -1.82557182 -3.16011507]\n",
            "epoch 108, negative log-likelihood 0.3296, w=[ 0.3284042  -1.87281011 -3.31864853]\n",
            "epoch 109, negative log-likelihood 0.2673, w=[ 1.12106638 -1.8243318  -3.2211904 ]\n",
            "epoch 110, negative log-likelihood 0.3269, w=[ 0.33936754 -1.87129171 -3.378966  ]\n",
            "epoch 111, negative log-likelihood 0.2650, w=[ 1.12885908 -1.8230794  -3.28172542]\n",
            "epoch 112, negative log-likelihood 0.3241, w=[ 0.35025275 -1.86975842 -3.43873398]\n",
            "epoch 113, negative log-likelihood 0.2627, w=[ 1.13652531 -1.82181491 -3.34172028]\n",
            "epoch 114, negative log-likelihood 0.3214, w=[ 0.36105975 -1.86821061 -3.49795277]\n",
            "epoch 115, negative log-likelihood 0.2604, w=[ 1.14406559 -1.82053864 -3.4011752 ]\n",
            "epoch 116, negative log-likelihood 0.3187, w=[ 0.37178847 -1.86664866 -3.55662277]\n",
            "epoch 117, negative log-likelihood 0.2582, w=[ 1.15148047 -1.81925089 -3.46009049]\n",
            "epoch 118, negative log-likelihood 0.3161, w=[ 0.38243886 -1.86507294 -3.61474447]\n",
            "epoch 119, negative log-likelihood 0.2560, w=[ 1.15877057 -1.81795199 -3.51846656]\n",
            "epoch 120, negative log-likelihood 0.3134, w=[ 0.39301088 -1.86348385 -3.67231848]\n",
            "epoch 121, negative log-likelihood 0.2538, w=[ 1.16593652 -1.81664224 -3.57630391]\n",
            "epoch 122, negative log-likelihood 0.3107, w=[ 0.40350448 -1.86188178 -3.72934548]\n",
            "epoch 123, negative log-likelihood 0.2517, w=[ 1.17297902 -1.81532198 -3.63360313]\n",
            "epoch 124, negative log-likelihood 0.3080, w=[ 0.41391966 -1.86026713 -3.78582628]\n",
            "epoch 125, negative log-likelihood 0.2495, w=[ 1.17989881 -1.81399154 -3.69036491]\n",
            "epoch 126, negative log-likelihood 0.3054, w=[ 0.42425639 -1.85864031 -3.84176178]\n",
            "epoch 127, negative log-likelihood 0.2474, w=[ 1.18669668 -1.81265126 -3.74659005]\n",
            "epoch 128, negative log-likelihood 0.3027, w=[ 0.43451468 -1.85700172 -3.89715299]\n",
            "epoch 129, negative log-likelihood 0.2453, w=[ 1.19337346 -1.81130149 -3.80227942]\n",
            "epoch 130, negative log-likelihood 0.3001, w=[ 0.44469455 -1.85535181 -3.95200103]\n",
            "epoch 131, negative log-likelihood 0.2433, w=[ 1.19993002 -1.8099426  -3.85743404]\n",
            "epoch 132, negative log-likelihood 0.2975, w=[ 0.45479603 -1.853691   -4.00630715]\n",
            "epoch 133, negative log-likelihood 0.2412, w=[ 1.20636728 -1.80857496 -3.91205501]\n",
            "epoch 134, negative log-likelihood 0.2949, w=[ 0.46481917 -1.85201974 -4.06007268]\n",
            "epoch 135, negative log-likelihood 0.2392, w=[ 1.21268621 -1.80719894 -3.96614354]\n",
            "epoch 136, negative log-likelihood 0.2923, w=[ 0.47476404 -1.85033848 -4.11329908]\n",
            "epoch 137, negative log-likelihood 0.2372, w=[ 1.21888781 -1.80581492 -4.01970094]\n",
            "epoch 138, negative log-likelihood 0.2897, w=[ 0.4846307  -1.84864768 -4.16598793]\n",
            "epoch 139, negative log-likelihood 0.2352, w=[ 1.22497311 -1.80442332 -4.07272866]\n",
            "epoch 140, negative log-likelihood 0.2871, w=[ 0.49441926 -1.84694782 -4.21814092]\n",
            "epoch 141, negative log-likelihood 0.2332, w=[ 1.2309432  -1.80302454 -4.12522823]\n",
            "epoch 142, negative log-likelihood 0.2846, w=[ 0.50412983 -1.84523939 -4.26975984]\n",
            "epoch 143, negative log-likelihood 0.2313, w=[ 1.2367992  -1.80161899 -4.17720131]\n",
            "epoch 144, negative log-likelihood 0.2820, w=[ 0.51376254 -1.84352287 -4.32084661]\n",
            "epoch 145, negative log-likelihood 0.2294, w=[ 1.24254225 -1.8002071  -4.22864965]\n",
            "epoch 146, negative log-likelihood 0.2795, w=[ 0.52331755 -1.84179878 -4.37140327]\n",
            "epoch 147, negative log-likelihood 0.2275, w=[ 1.24817354 -1.79878932 -4.27957515]\n",
            "epoch 148, negative log-likelihood 0.2770, w=[ 0.532795   -1.84006763 -4.42143195]\n",
            "epoch 149, negative log-likelihood 0.2256, w=[ 1.25369429 -1.79736609 -4.32997978]\n",
            "epoch 150, negative log-likelihood 0.2745, w=[ 0.5421951  -1.83832994 -4.47093491]\n",
            "epoch 151, negative log-likelihood 0.2238, w=[ 1.25910574 -1.79593787 -4.37986565]\n",
            "epoch 152, negative log-likelihood 0.2720, w=[ 0.55151805 -1.83658625 -4.51991453]\n",
            "epoch 153, negative log-likelihood 0.2219, w=[ 1.26440916 -1.79450511 -4.42923496]\n",
            "epoch 154, negative log-likelihood 0.2695, w=[ 0.56076406 -1.8348371  -4.56837326]\n",
            "epoch 155, negative log-likelihood 0.2201, w=[ 1.26960584 -1.7930683  -4.47809002]\n",
            "epoch 156, negative log-likelihood 0.2670, w=[ 0.56993339 -1.83308304 -4.6163137 ]\n",
            "epoch 157, negative log-likelihood 0.2183, w=[ 1.27469711 -1.79162791 -4.52643326]\n",
            "epoch 158, negative log-likelihood 0.2646, w=[ 0.5790263  -1.83132463 -4.66373853]\n",
            "epoch 159, negative log-likelihood 0.2166, w=[ 1.27968429 -1.79018443 -4.57426721]\n",
            "epoch 160, negative log-likelihood 0.2622, w=[ 0.58804306 -1.82956243 -4.71065055]\n",
            "epoch 161, negative log-likelihood 0.2148, w=[ 1.28456875 -1.78873836 -4.6215945 ]\n",
            "epoch 162, negative log-likelihood 0.2598, w=[ 0.59698398 -1.82779701 -4.75705265]\n",
            "epoch 163, negative log-likelihood 0.2131, w=[ 1.28935186 -1.78729018 -4.66841786]\n",
            "epoch 164, negative log-likelihood 0.2574, w=[ 0.60584939 -1.82602896 -4.80294781]\n",
            "epoch 165, negative log-likelihood 0.2114, w=[ 1.29403498 -1.78584041 -4.71474012]\n",
            "epoch 166, negative log-likelihood 0.2550, w=[ 0.61463961 -1.82425883 -4.84833913]\n",
            "epoch 167, negative log-likelihood 0.2097, w=[ 1.29861953 -1.78438953 -4.76056421]\n",
            "epoch 168, negative log-likelihood 0.2527, w=[ 0.62335501 -1.82248723 -4.89322977]\n",
            "epoch 169, negative log-likelihood 0.2080, w=[ 1.3031069  -1.78293807 -4.80589315]\n",
            "epoch 170, negative log-likelihood 0.2503, w=[ 0.63199596 -1.82071472 -4.93762301]\n",
            "epoch 171, negative log-likelihood 0.2064, w=[ 1.30749849 -1.78148652 -4.85073004]\n",
            "epoch 172, negative log-likelihood 0.2480, w=[ 0.64056286 -1.81894188 -4.98152218]\n",
            "epoch 173, negative log-likelihood 0.2048, w=[ 1.31179572 -1.7800354  -4.89507808]\n",
            "epoch 174, negative log-likelihood 0.2457, w=[ 0.64905612 -1.81716931 -5.02493073]\n",
            "epoch 175, negative log-likelihood 0.2032, w=[ 1.316      -1.77858521 -4.93894057]\n",
            "epoch 176, negative log-likelihood 0.2434, w=[ 0.65747617 -1.81539757 -5.06785216]\n",
            "epoch 177, negative log-likelihood 0.2016, w=[ 1.32011274 -1.77713644 -4.98232085]\n",
            "epoch 178, negative log-likelihood 0.2412, w=[ 0.66582346 -1.81362724 -5.11029005]\n",
            "epoch 179, negative log-likelihood 0.2000, w=[ 1.32413534 -1.7756896  -5.02522236]\n",
            "epoch 180, negative log-likelihood 0.2389, w=[ 0.67409845 -1.81185889 -5.15224806]\n",
            "epoch 181, negative log-likelihood 0.1985, w=[ 1.32806922 -1.77424518 -5.06764861]\n",
            "epoch 182, negative log-likelihood 0.2367, w=[ 0.68230162 -1.81009308 -5.19372991]\n",
            "epoch 183, negative log-likelihood 0.1969, w=[ 1.33191576 -1.77280367 -5.10960319]\n",
            "epoch 184, negative log-likelihood 0.2345, w=[ 0.69043347 -1.80833036 -5.23473937]\n",
            "epoch 185, negative log-likelihood 0.1954, w=[ 1.33567636 -1.77136555 -5.15108975]\n",
            "epoch 186, negative log-likelihood 0.2324, w=[ 0.69849451 -1.80657129 -5.27528029]\n",
            "epoch 187, negative log-likelihood 0.1939, w=[ 1.3393524  -1.76993128 -5.19211197]\n",
            "epoch 188, negative log-likelihood 0.2302, w=[ 0.70648526 -1.80481638 -5.31535657]\n",
            "epoch 189, negative log-likelihood 0.1924, w=[ 1.34294524 -1.76850134 -5.23267365]\n",
            "epoch 190, negative log-likelihood 0.2281, w=[ 0.71440626 -1.80306618 -5.35497214]\n",
            "epoch 191, negative log-likelihood 0.1910, w=[ 1.34645625 -1.76707618 -5.27277858]\n",
            "epoch 192, negative log-likelihood 0.2260, w=[ 0.72225805 -1.80132119 -5.394131  ]\n",
            "epoch 193, negative log-likelihood 0.1895, w=[ 1.34988675 -1.76565623 -5.31243065]\n",
            "epoch 194, negative log-likelihood 0.2239, w=[ 0.73004122 -1.79958191 -5.43283719]\n",
            "epoch 195, negative log-likelihood 0.1881, w=[ 1.35323808 -1.76424192 -5.35163376]\n",
            "epoch 196, negative log-likelihood 0.2218, w=[ 0.73775632 -1.79784882 -5.47109477]\n",
            "epoch 197, negative log-likelihood 0.1867, w=[ 1.35651155 -1.76283367 -5.39039188]\n",
            "epoch 198, negative log-likelihood 0.2198, w=[ 0.74540395 -1.79612239 -5.50890785]\n",
            "epoch 199, negative log-likelihood 0.1853, w=[ 1.35970844 -1.76143189 -5.428709  ]\n",
            "epoch 200, negative log-likelihood 0.2177, w=[ 0.75298471 -1.79440308 -5.54628057]\n",
            "epoch 201, negative log-likelihood 0.1840, w=[ 1.36283005 -1.76003695 -5.46658916]\n",
            "epoch 202, negative log-likelihood 0.2157, w=[ 0.76049919 -1.79269132 -5.58321711]\n",
            "epoch 203, negative log-likelihood 0.1826, w=[ 1.36587761 -1.75864924 -5.50403641]\n",
            "epoch 204, negative log-likelihood 0.2138, w=[ 0.76794803 -1.79098754 -5.61972164]\n",
            "epoch 205, negative log-likelihood 0.1813, w=[ 1.36885236 -1.75726911 -5.54105485]\n",
            "epoch 206, negative log-likelihood 0.2118, w=[ 0.77533184 -1.78929213 -5.65579838]\n",
            "epoch 207, negative log-likelihood 0.1800, w=[ 1.37175553 -1.7558969  -5.57764859]\n",
            "epoch 208, negative log-likelihood 0.2099, w=[ 0.78265125 -1.78760548 -5.69145155]\n",
            "epoch 209, negative log-likelihood 0.1787, w=[ 1.37458831 -1.75453293 -5.61382177]\n",
            "epoch 210, negative log-likelihood 0.2079, w=[ 0.78990692 -1.78592795 -5.7266854 ]\n",
            "epoch 211, negative log-likelihood 0.1774, w=[ 1.37735187 -1.75317753 -5.64957854]\n",
            "epoch 212, negative log-likelihood 0.2061, w=[ 0.79709948 -1.7842599  -5.76150418]\n",
            "epoch 213, negative log-likelihood 0.1761, w=[ 1.38004737 -1.75183097 -5.68492307]\n",
            "epoch 214, negative log-likelihood 0.2042, w=[ 0.80422958 -1.78260164 -5.79591214]\n",
            "epoch 215, negative log-likelihood 0.1748, w=[ 1.38267594 -1.75049354 -5.71985953]\n",
            "epoch 216, negative log-likelihood 0.2023, w=[ 0.8112979  -1.7809535  -5.82991355]\n",
            "epoch 217, negative log-likelihood 0.1736, w=[ 1.38523869 -1.7491655  -5.75439211]\n",
            "epoch 218, negative log-likelihood 0.2005, w=[ 0.81830509 -1.77931575 -5.86351267]\n",
            "epoch 219, negative log-likelihood 0.1724, w=[ 1.38773672 -1.74784708 -5.788525  ]\n",
            "epoch 220, negative log-likelihood 0.1987, w=[ 0.82525182 -1.77768867 -5.89671376]\n",
            "epoch 221, negative log-likelihood 0.1712, w=[ 1.39017109 -1.74653852 -5.8222624 ]\n",
            "epoch 222, negative log-likelihood 0.1969, w=[ 0.83213876 -1.77607252 -5.92952109]\n",
            "epoch 223, negative log-likelihood 0.1700, w=[ 1.39254285 -1.74524002 -5.85560848]\n",
            "epoch 224, negative log-likelihood 0.1951, w=[ 0.8389666  -1.77446754 -5.96193891]\n",
            "epoch 225, negative log-likelihood 0.1688, w=[ 1.39485303 -1.74395178 -5.88856746]\n",
            "epoch 226, negative log-likelihood 0.1934, w=[ 0.84573601 -1.77287392 -5.99397146]\n",
            "epoch 227, negative log-likelihood 0.1676, w=[ 1.39710263 -1.74267397 -5.9211435 ]\n",
            "epoch 228, negative log-likelihood 0.1917, w=[ 0.85244768 -1.77129189 -6.02562297]\n",
            "epoch 229, negative log-likelihood 0.1665, w=[ 1.39929264 -1.74140677 -5.95334078]\n",
            "epoch 230, negative log-likelihood 0.1900, w=[ 0.85910229 -1.76972162 -6.05689767]\n",
            "epoch 231, negative log-likelihood 0.1654, w=[ 1.40142401 -1.74015031 -5.98516348]\n",
            "epoch 232, negative log-likelihood 0.1883, w=[ 0.86570053 -1.76816327 -6.08779976]\n",
            "epoch 233, negative log-likelihood 0.1642, w=[ 1.40349771 -1.73890474 -6.01661574]\n",
            "epoch 234, negative log-likelihood 0.1866, w=[ 0.87224308 -1.76661701 -6.11833343]\n",
            "epoch 235, negative log-likelihood 0.1631, w=[ 1.40551464 -1.73767017 -6.04770171]\n",
            "epoch 236, negative log-likelihood 0.1850, w=[ 0.87873064 -1.76508295 -6.14850285]\n",
            "epoch 237, negative log-likelihood 0.1620, w=[ 1.40747571 -1.73644671 -6.07842551]\n",
            "epoch 238, negative log-likelihood 0.1834, w=[ 0.8851639  -1.76356123 -6.17831217]\n",
            "epoch 239, negative log-likelihood 0.1610, w=[ 1.40938181 -1.73523445 -6.10879125]\n",
            "epoch 240, negative log-likelihood 0.1818, w=[ 0.89154355 -1.76205195 -6.20776552]\n",
            "epoch 241, negative log-likelihood 0.1599, w=[ 1.4112338  -1.73403347 -6.13880302]\n",
            "epoch 242, negative log-likelihood 0.1802, w=[ 0.89787029 -1.7605552  -6.236867  ]\n",
            "epoch 243, negative log-likelihood 0.1588, w=[ 1.41303253 -1.73284386 -6.16846489]\n",
            "epoch 244, negative log-likelihood 0.1787, w=[ 0.90414479 -1.75907106 -6.2656207 ]\n",
            "epoch 245, negative log-likelihood 0.1578, w=[ 1.41477882 -1.73166566 -6.1977809 ]\n",
            "epoch 246, negative log-likelihood 0.1771, w=[ 0.91036777 -1.7575996  -6.29403068]\n",
            "epoch 247, negative log-likelihood 0.1568, w=[ 1.41647348 -1.73049892 -6.22675508]\n",
            "epoch 248, negative log-likelihood 0.1756, w=[ 0.9165399  -1.75614088 -6.32210095]\n",
            "epoch 249, negative log-likelihood 0.1558, w=[ 1.41811731 -1.72934369 -6.25539143]\n",
            "epoch 250, negative log-likelihood 0.1741, w=[ 0.92266189 -1.75469494 -6.34983552]\n",
            "epoch 251, negative log-likelihood 0.1548, w=[ 1.41971108 -1.72819999 -6.28369392]\n",
            "epoch 252, negative log-likelihood 0.1726, w=[ 0.92873441 -1.75326181 -6.37723837]\n",
            "epoch 253, negative log-likelihood 0.1538, w=[ 1.42125554 -1.72706786 -6.3116665 ]\n",
            "epoch 254, negative log-likelihood 0.1712, w=[ 0.93475817 -1.75184153 -6.40431344]\n",
            "epoch 255, negative log-likelihood 0.1528, w=[ 1.42275143 -1.7259473  -6.3393131 ]\n",
            "epoch 256, negative log-likelihood 0.1697, w=[ 0.94073385 -1.7504341  -6.43106464]\n",
            "epoch 257, negative log-likelihood 0.1518, w=[ 1.42419949 -1.72483832 -6.36663759]\n",
            "epoch 258, negative log-likelihood 0.1683, w=[ 0.94666213 -1.74903955 -6.45749584]\n",
            "epoch 259, negative log-likelihood 0.1509, w=[ 1.4256004  -1.72374093 -6.39364386]\n",
            "epoch 260, negative log-likelihood 0.1669, w=[ 0.95254371 -1.74765788 -6.48361091]\n",
            "epoch 261, negative log-likelihood 0.1499, w=[ 1.42695487 -1.72265513 -6.42033574]\n",
            "epoch 262, negative log-likelihood 0.1656, w=[ 0.95837927 -1.74628907 -6.50941366]\n",
            "epoch 263, negative log-likelihood 0.1490, w=[ 1.42826356 -1.7215809  -6.44671702]\n",
            "epoch 264, negative log-likelihood 0.1642, w=[ 0.9641695  -1.74493313 -6.53490788]\n",
            "epoch 265, negative log-likelihood 0.1481, w=[ 1.42952714 -1.72051824 -6.47279149]\n",
            "epoch 266, negative log-likelihood 0.1628, w=[ 0.96991507 -1.74359003 -6.56009732]\n",
            "epoch 267, negative log-likelihood 0.1472, w=[ 1.43074625 -1.71946712 -6.49856289]\n",
            "epoch 268, negative log-likelihood 0.1615, w=[ 0.97561667 -1.74225977 -6.58498569]\n",
            "epoch 269, negative log-likelihood 0.1463, w=[ 1.43192152 -1.71842753 -6.52403493]\n",
            "epoch 270, negative log-likelihood 0.1602, w=[ 0.98127498 -1.74094231 -6.60957669]\n",
            "epoch 271, negative log-likelihood 0.1454, w=[ 1.43305356 -1.71739946 -6.54921129]\n",
            "epoch 272, negative log-likelihood 0.1589, w=[ 0.98689068 -1.73963763 -6.63387396]\n",
            "epoch 273, negative log-likelihood 0.1445, w=[ 1.43414297 -1.71638287 -6.57409563]\n",
            "epoch 274, negative log-likelihood 0.1576, w=[ 0.99246444 -1.73834571 -6.65788112]\n",
            "epoch 275, negative log-likelihood 0.1436, w=[ 1.43519034 -1.71537775 -6.59869156]\n",
            "epoch 276, negative log-likelihood 0.1564, w=[ 0.99799694 -1.73706651 -6.68160177]\n",
            "epoch 277, negative log-likelihood 0.1428, w=[ 1.43619624 -1.71438406 -6.62300267]\n",
            "epoch 278, negative log-likelihood 0.1552, w=[ 1.00348886 -1.7358     -6.70503944]\n",
            "epoch 279, negative log-likelihood 0.1419, w=[ 1.43716122 -1.71340178 -6.64703251]\n",
            "epoch 280, negative log-likelihood 0.1539, w=[ 1.00894087 -1.73454616 -6.72819765]\n",
            "epoch 281, negative log-likelihood 0.1411, w=[ 1.43808584 -1.7124309  -6.6707846 ]\n",
            "epoch 282, negative log-likelihood 0.1527, w=[ 1.01435364 -1.73330494 -6.75107988]\n",
            "epoch 283, negative log-likelihood 0.1403, w=[ 1.43897061 -1.71147138 -6.69426243]\n",
            "epoch 284, negative log-likelihood 0.1516, w=[ 1.01972784 -1.73207631 -6.77368958]\n",
            "epoch 285, negative log-likelihood 0.1395, w=[ 1.43981607 -1.7105232  -6.71746945]\n",
            "epoch 286, negative log-likelihood 0.1504, w=[ 1.02506414 -1.73086025 -6.79603016]\n",
            "epoch 287, negative log-likelihood 0.1387, w=[ 1.4406227  -1.70958634 -6.7404091 ]\n",
            "epoch 288, negative log-likelihood 0.1492, w=[ 1.03036321 -1.72965672 -6.818105  ]\n",
            "epoch 289, negative log-likelihood 0.1379, w=[ 1.44139101 -1.70866079 -6.76308476]\n",
            "epoch 290, negative log-likelihood 0.1481, w=[ 1.03562571 -1.72846569 -6.83991744]\n",
            "epoch 291, negative log-likelihood 0.1371, w=[ 1.44212147 -1.70774653 -6.78549979]\n",
            "epoch 292, negative log-likelihood 0.1470, w=[ 1.04085232 -1.72728714 -6.8614708 ]\n",
            "epoch 293, negative log-likelihood 0.1363, w=[ 1.44281455 -1.70684354 -6.80765753]\n",
            "epoch 294, negative log-likelihood 0.1459, w=[ 1.0460437  -1.72612104 -6.88276834]\n",
            "epoch 295, negative log-likelihood 0.1355, w=[ 1.44347071 -1.70595181 -6.82956126]\n",
            "epoch 296, negative log-likelihood 0.1448, w=[ 1.05120051 -1.72496737 -6.90381331]\n",
            "epoch 297, negative log-likelihood 0.1348, w=[ 1.44409038 -1.70507135 -6.85121425]\n",
            "epoch 298, negative log-likelihood 0.1437, w=[ 1.05632342 -1.72382611 -6.92460892]\n",
            "epoch 299, negative log-likelihood 0.1340, w=[ 1.444674   -1.70420215 -6.87261973]\n",
            "epoch 300, negative log-likelihood 0.1427, w=[ 1.0614131  -1.72269725 -6.94515836]\n",
            "epoch 301, negative log-likelihood 0.1333, w=[ 1.44522199 -1.70334421 -6.89378092]\n",
            "epoch 302, negative log-likelihood 0.1416, w=[ 1.0664702  -1.72158078 -6.96546475]\n",
            "epoch 303, negative log-likelihood 0.1326, w=[ 1.44573476 -1.70249754 -6.91470097]\n",
            "epoch 304, negative log-likelihood 0.1406, w=[ 1.07149539 -1.72047668 -6.98553122]\n",
            "epoch 305, negative log-likelihood 0.1318, w=[ 1.44621269 -1.70166216 -6.93538303]\n",
            "epoch 306, negative log-likelihood 0.1396, w=[ 1.07648933 -1.71938498 -7.00536084]\n",
            "epoch 307, negative log-likelihood 0.1311, w=[ 1.44665619 -1.7008381  -6.95583022]\n",
            "epoch 308, negative log-likelihood 0.1386, w=[ 1.08145268 -1.71830565 -7.02495666]\n",
            "epoch 309, negative log-likelihood 0.1304, w=[ 1.44706562 -1.70002537 -6.97604561]\n",
            "epoch 310, negative log-likelihood 0.1376, w=[ 1.08638612 -1.71723873 -7.0443217 ]\n",
            "epoch 311, negative log-likelihood 0.1297, w=[ 1.44744135 -1.69922401 -6.99603226]\n",
            "epoch 312, negative log-likelihood 0.1366, w=[ 1.09129029 -1.71618423 -7.06345895]\n",
            "epoch 313, negative log-likelihood 0.1290, w=[ 1.44778374 -1.69843406 -7.01579318]\n",
            "epoch 314, negative log-likelihood 0.1357, w=[ 1.09616586 -1.71514217 -7.08237137]\n",
            "epoch 315, negative log-likelihood 0.1283, w=[ 1.44809313 -1.69765557 -7.03533139]\n",
            "epoch 316, negative log-likelihood 0.1347, w=[ 1.1010135  -1.71411258 -7.10106187]\n",
            "epoch 317, negative log-likelihood 0.1277, w=[ 1.44836986 -1.69688861 -7.05464983]\n",
            "epoch 318, negative log-likelihood 0.1338, w=[ 1.10583387 -1.71309551 -7.11953336]\n",
            "epoch 319, negative log-likelihood 0.1270, w=[ 1.44861426 -1.69613323 -7.07375146]\n",
            "epoch 320, negative log-likelihood 0.1329, w=[ 1.11062762 -1.712091   -7.1377887 ]\n",
            "epoch 321, negative log-likelihood 0.1264, w=[ 1.44882665 -1.69538951 -7.09263919]\n",
            "epoch 322, negative log-likelihood 0.1320, w=[ 1.11539543 -1.71109911 -7.15583075]\n",
            "epoch 323, negative log-likelihood 0.1257, w=[ 1.44900734 -1.69465754 -7.1113159 ]\n",
            "epoch 324, negative log-likelihood 0.1311, w=[ 1.12013796 -1.71011991 -7.1736623 ]\n",
            "epoch 325, negative log-likelihood 0.1251, w=[ 1.44915664 -1.69393742 -7.12978445]\n",
            "epoch 326, negative log-likelihood 0.1303, w=[ 1.12485586 -1.70915348 -7.19128615]\n",
            "epoch 327, negative log-likelihood 0.1244, w=[ 1.44927484 -1.69322924 -7.14804767]\n",
            "epoch 328, negative log-likelihood 0.1294, w=[ 1.12954981 -1.7081999  -7.20870506]\n",
            "epoch 329, negative log-likelihood 0.1238, w=[ 1.44936224 -1.69253312 -7.16610839]\n",
            "epoch 330, negative log-likelihood 0.1286, w=[ 1.13422046 -1.70725927 -7.22592176]\n",
            "epoch 331, negative log-likelihood 0.1232, w=[ 1.44941912 -1.6918492  -7.18396938]\n",
            "epoch 332, negative log-likelihood 0.1277, w=[ 1.13886847 -1.7063317  -7.24293897]\n",
            "epoch 333, negative log-likelihood 0.1226, w=[ 1.44944577 -1.69117761 -7.2016334 ]\n",
            "epoch 334, negative log-likelihood 0.1269, w=[ 1.14349452 -1.70541731 -7.25975936]\n",
            "epoch 335, negative log-likelihood 0.1220, w=[ 1.44944247 -1.69051852 -7.21910319]\n",
            "epoch 336, negative log-likelihood 0.1261, w=[ 1.14809925 -1.70451625 -7.27638561]\n",
            "epoch 337, negative log-likelihood 0.1214, w=[ 1.44940949 -1.68987208 -7.23638148]\n",
            "epoch 338, negative log-likelihood 0.1253, w=[ 1.15268333 -1.70362866 -7.29282035]\n",
            "epoch 339, negative log-likelihood 0.1208, w=[ 1.44934711 -1.68923849 -7.25347095]\n",
            "epoch 340, negative log-likelihood 0.1246, w=[ 1.15724741 -1.7027547  -7.30906621]\n",
            "epoch 341, negative log-likelihood 0.1202, w=[ 1.44925561 -1.68861793 -7.27037427]\n",
            "epoch 342, negative log-likelihood 0.1238, w=[ 1.16179215 -1.70189457 -7.32512578]\n",
            "epoch 343, negative log-likelihood 0.1197, w=[ 1.44913525 -1.68801063 -7.28709411]\n",
            "epoch 344, negative log-likelihood 0.1231, w=[ 1.1663182  -1.70104844 -7.34100165]\n",
            "epoch 345, negative log-likelihood 0.1191, w=[ 1.44898632 -1.68741681 -7.30363309]\n",
            "epoch 346, negative log-likelihood 0.1223, w=[ 1.1708262  -1.70021655 -7.35669637]\n",
            "epoch 347, negative log-likelihood 0.1185, w=[ 1.4488091  -1.68683672 -7.31999382]\n",
            "epoch 348, negative log-likelihood 0.1216, w=[ 1.17531679 -1.69939912 -7.37221249]\n",
            "epoch 349, negative log-likelihood 0.1180, w=[ 1.44860389 -1.68627063 -7.33617891]\n",
            "epoch 350, negative log-likelihood 0.1209, w=[ 1.17979062 -1.69859641 -7.38755254]\n",
            "epoch 351, negative log-likelihood 0.1175, w=[ 1.44837096 -1.68571883 -7.35219093]\n",
            "epoch 352, negative log-likelihood 0.1202, w=[ 1.18424831 -1.69780868 -7.40271903]\n",
            "epoch 353, negative log-likelihood 0.1169, w=[ 1.44811064 -1.68518162 -7.36803244]\n",
            "epoch 354, negative log-likelihood 0.1195, w=[ 1.18869048 -1.69703624 -7.41771447]\n",
            "epoch 355, negative log-likelihood 0.1164, w=[ 1.44782324 -1.68465933 -7.38370598]\n",
            "epoch 356, negative log-likelihood 0.1188, w=[ 1.19311774 -1.6962794  -7.43254134]\n",
            "epoch 357, negative log-likelihood 0.1159, w=[ 1.44750909 -1.68415231 -7.39921409]\n",
            "epoch 358, negative log-likelihood 0.1182, w=[ 1.19753068 -1.6955385  -7.44720213]\n",
            "epoch 359, negative log-likelihood 0.1154, w=[ 1.44716855 -1.68366093 -7.41455928]\n",
            "epoch 360, negative log-likelihood 0.1175, w=[ 1.20192989 -1.69481391 -7.4616993 ]\n",
            "epoch 361, negative log-likelihood 0.1149, w=[ 1.44680198 -1.68318559 -7.42974404]\n",
            "epoch 362, negative log-likelihood 0.1169, w=[ 1.20631593 -1.69410602 -7.47603531]\n",
            "epoch 363, negative log-likelihood 0.1144, w=[ 1.44640979 -1.68272672 -7.44477088]\n",
            "epoch 364, negative log-likelihood 0.1163, w=[ 1.21068935 -1.69341526 -7.49021262]\n",
            "epoch 365, negative log-likelihood 0.1139, w=[ 1.44599239 -1.68228476 -7.45964225]\n",
            "epoch 366, negative log-likelihood 0.1157, w=[ 1.21505067 -1.69274207 -7.50423368]\n",
            "epoch 367, negative log-likelihood 0.1134, w=[ 1.44555024 -1.68186019 -7.47436063]\n",
            "epoch 368, negative log-likelihood 0.1151, w=[ 1.2194004  -1.69208693 -7.51810095]\n",
            "epoch 369, negative log-likelihood 0.1129, w=[ 1.44508384 -1.68145351 -7.48892846]\n",
            "epoch 370, negative log-likelihood 0.1145, w=[ 1.223739   -1.69145036 -7.53181688]\n",
            "epoch 371, negative log-likelihood 0.1125, w=[ 1.4445937  -1.68106527 -7.50334819]\n",
            "epoch 372, negative log-likelihood 0.1139, w=[ 1.22806691 -1.6908329  -7.54538392]\n",
            "epoch 373, negative log-likelihood 0.1120, w=[ 1.44408042 -1.68069602 -7.51762225]\n",
            "epoch 374, negative log-likelihood 0.1134, w=[ 1.23238452 -1.69023513 -7.55880452]\n",
            "epoch 375, negative log-likelihood 0.1116, w=[ 1.44354462 -1.68034635 -7.53175305]\n",
            "epoch 376, negative log-likelihood 0.1128, w=[ 1.23669219 -1.68965766 -7.57208116]\n",
            "epoch 377, negative log-likelihood 0.1111, w=[ 1.44298699 -1.68001691 -7.54574302]\n",
            "epoch 378, negative log-likelihood 0.1123, w=[ 1.24099023 -1.68910114 -7.5852163 ]\n",
            "epoch 379, negative log-likelihood 0.1107, w=[ 1.44240827 -1.67970834 -7.55959456]\n",
            "epoch 380, negative log-likelihood 0.1118, w=[ 1.24527889 -1.68856627 -7.59821243]\n",
            "epoch 381, negative log-likelihood 0.1103, w=[ 1.44180928 -1.67942133 -7.57331007]\n",
            "epoch 382, negative log-likelihood 0.1112, w=[ 1.24955837 -1.68805377 -7.61107205]\n",
            "epoch 383, negative log-likelihood 0.1099, w=[ 1.44119091 -1.67915662 -7.58689193]\n",
            "epoch 384, negative log-likelihood 0.1107, w=[ 1.25382878 -1.68756439 -7.62379767]\n",
            "epoch 385, negative log-likelihood 0.1095, w=[ 1.44055413 -1.67891495 -7.60034253]\n",
            "epoch 386, negative log-likelihood 0.1103, w=[ 1.25809019 -1.68709895 -7.63639183]\n",
            "epoch 387, negative log-likelihood 0.1091, w=[ 1.43990003 -1.67869712 -7.61366424]\n",
            "epoch 388, negative log-likelihood 0.1098, w=[ 1.26234256 -1.68665829 -7.64885708]\n",
            "epoch 389, negative log-likelihood 0.1087, w=[ 1.43922975 -1.67850394 -7.62685944]\n",
            "epoch 390, negative log-likelihood 0.1093, w=[ 1.26658576 -1.68624328 -7.661196  ]\n",
            "epoch 391, negative log-likelihood 0.1083, w=[ 1.43854456 -1.67833627 -7.63993048]\n",
            "epoch 392, negative log-likelihood 0.1089, w=[ 1.27081959 -1.68585486 -7.6734112 ]\n",
            "epoch 393, negative log-likelihood 0.1079, w=[ 1.43784586 -1.67819498 -7.65287972]\n",
            "epoch 394, negative log-likelihood 0.1084, w=[ 1.27504371 -1.68549396 -7.68550531]\n",
            "epoch 395, negative log-likelihood 0.1075, w=[ 1.43713514 -1.67808097 -7.6657095 ]\n",
            "epoch 396, negative log-likelihood 0.1080, w=[ 1.27925767 -1.68516158 -7.69748099]\n",
            "epoch 397, negative log-likelihood 0.1072, w=[ 1.43641404 -1.67799518 -7.67842217]\n",
            "epoch 398, negative log-likelihood 0.1076, w=[ 1.2834609  -1.68485874 -7.70934095]\n",
            "epoch 399, negative log-likelihood 0.1068, w=[ 1.43568432 -1.67793855 -7.69102005]\n",
            "epoch 400, negative log-likelihood 0.1072, w=[ 1.2876527  -1.6845865  -7.72108791]\n",
            "epoch 401, negative log-likelihood 0.1065, w=[ 1.4349479  -1.67791204 -7.70350546]\n",
            "epoch 402, negative log-likelihood 0.1068, w=[ 1.2918322  -1.68434592 -7.73272466]\n",
            "epoch 403, negative log-likelihood 0.1062, w=[ 1.43420683 -1.67791662 -7.71588071]\n",
            "epoch 404, negative log-likelihood 0.1065, w=[ 1.2959984  -1.68413812 -7.74425399]\n",
            "epoch 405, negative log-likelihood 0.1059, w=[ 1.43346333 -1.67795328 -7.72814809]\n",
            "epoch 406, negative log-likelihood 0.1061, w=[ 1.30015013 -1.68396419 -7.75567875]\n",
            "epoch 407, negative log-likelihood 0.1056, w=[ 1.43271977 -1.678023   -7.7403099 ]\n",
            "epoch 408, negative log-likelihood 0.1058, w=[ 1.30428604 -1.68382526 -7.76700183]\n",
            "epoch 409, negative log-likelihood 0.1053, w=[ 1.43197868 -1.67812674 -7.75236839]\n",
            "epoch 410, negative log-likelihood 0.1054, w=[ 1.30840462 -1.68372246 -7.77822616]\n",
            "epoch 411, negative log-likelihood 0.1050, w=[ 1.43124275 -1.67826545 -7.76432582]\n",
            "epoch 412, negative log-likelihood 0.1051, w=[ 1.31250417 -1.68365689 -7.78935469]\n",
            "epoch 413, negative log-likelihood 0.1047, w=[ 1.43051484 -1.67844006 -7.77618442]\n",
            "epoch 414, negative log-likelihood 0.1048, w=[ 1.31658279 -1.68362965 -7.80039042]\n",
            "epoch 415, negative log-likelihood 0.1044, w=[ 1.42979795 -1.67865145 -7.78794641]\n",
            "epoch 416, negative log-likelihood 0.1045, w=[ 1.32063842 -1.68364182 -7.81133639]\n",
            "epoch 417, negative log-likelihood 0.1042, w=[ 1.42909524 -1.67890048 -7.79961397]\n",
            "epoch 418, negative log-likelihood 0.1043, w=[ 1.3246688  -1.68369443 -7.82219566]\n",
            "epoch 419, negative log-likelihood 0.1040, w=[ 1.42841001 -1.67918793 -7.81118927]\n",
            "epoch 420, negative log-likelihood 0.1040, w=[ 1.3286715  -1.68378846 -7.83297131]\n",
            "epoch 421, negative log-likelihood 0.1037, w=[ 1.42774568 -1.6795145  -7.82267445]\n",
            "epoch 422, negative log-likelihood 0.1038, w=[ 1.33264391 -1.68392482 -7.84366645]\n",
            "epoch 423, negative log-likelihood 0.1035, w=[ 1.42710579 -1.67988084 -7.83407163]\n",
            "epoch 424, negative log-likelihood 0.1035, w=[ 1.33658325 -1.68410435 -7.85428419]\n",
            "epoch 425, negative log-likelihood 0.1033, w=[ 1.42649396 -1.68028748 -7.84538288]\n",
            "epoch 426, negative log-likelihood 0.1033, w=[ 1.34048662 -1.6843278  -7.86482768]\n",
            "epoch 427, negative log-likelihood 0.1031, w=[ 1.42591391 -1.68073485 -7.85661024]\n",
            "epoch 428, negative log-likelihood 0.1031, w=[ 1.34435097 -1.68459581 -7.87530001]\n",
            "epoch 429, negative log-likelihood 0.1029, w=[ 1.42536935 -1.68122326 -7.86775575]\n",
            "epoch 430, negative log-likelihood 0.1029, w=[ 1.34817317 -1.68490891 -7.88570431]\n",
            "epoch 431, negative log-likelihood 0.1027, w=[ 1.42486406 -1.68175289 -7.87882137]\n",
            "epoch 432, negative log-likelihood 0.1027, w=[ 1.35194999 -1.68526749 -7.89604365]\n",
            "epoch 433, negative log-likelihood 0.1025, w=[ 1.42440174 -1.68232379 -7.88980904]\n",
            "epoch 434, negative log-likelihood 0.1025, w=[ 1.35567817 -1.68567179 -7.90632108]\n",
            "epoch 435, negative log-likelihood 0.1024, w=[ 1.42398608 -1.68293584 -7.90072068]\n",
            "epoch 436, negative log-likelihood 0.1024, w=[ 1.35935445 -1.68612191 -7.9165396 ]\n",
            "epoch 437, negative log-likelihood 0.1022, w=[ 1.42362065 -1.68358879 -7.91155816]\n",
            "epoch 438, negative log-likelihood 0.1022, w=[ 1.3629756  -1.68661777 -7.92670215]\n",
            "epoch 439, negative log-likelihood 0.1021, w=[ 1.42330889 -1.68428221 -7.92232329]\n",
            "epoch 440, negative log-likelihood 0.1021, w=[ 1.36653844 -1.68715913 -7.93681157]\n",
            "epoch 441, negative log-likelihood 0.1020, w=[ 1.42305405 -1.68501552 -7.93301787]\n",
            "epoch 442, negative log-likelihood 0.1019, w=[ 1.37003992 -1.68774557 -7.94687065]\n",
            "epoch 443, negative log-likelihood 0.1018, w=[ 1.42285917 -1.68578795 -7.94364366]\n",
            "epoch 444, negative log-likelihood 0.1018, w=[ 1.37347717 -1.68837648 -7.95688205]\n",
            "epoch 445, negative log-likelihood 0.1017, w=[ 1.42272702 -1.6865986  -7.95420237]\n",
            "epoch 446, negative log-likelihood 0.1017, w=[ 1.37684748 -1.68905109 -7.96684833]\n",
            "epoch 447, negative log-likelihood 0.1016, w=[ 1.4226601  -1.68744639 -7.96469568]\n",
            "epoch 448, negative log-likelihood 0.1016, w=[ 1.38014841 -1.68976844 -7.97677192]\n",
            "epoch 449, negative log-likelihood 0.1015, w=[ 1.42266056 -1.68833012 -7.97512523]\n",
            "epoch 450, negative log-likelihood 0.1015, w=[ 1.38337782 -1.6905274  -7.98665511]\n",
            "epoch 451, negative log-likelihood 0.1014, w=[ 1.42273016 -1.68924841 -7.98549263]\n",
            "epoch 452, negative log-likelihood 0.1014, w=[ 1.38653385 -1.69132668 -7.99650004]\n",
            "epoch 453, negative log-likelihood 0.1013, w=[ 1.42287033 -1.6901998  -7.99579947]\n",
            "epoch 454, negative log-likelihood 0.1013, w=[ 1.38961503 -1.69216485 -8.00630872]\n",
            "epoch 455, negative log-likelihood 0.1012, w=[ 1.42308204 -1.69118269 -8.00604728]\n",
            "epoch 456, negative log-likelihood 0.1012, w=[ 1.39262025 -1.69304033 -8.01608296]\n",
            "epoch 457, negative log-likelihood 0.1012, w=[ 1.42336586 -1.69219539 -8.01623757]\n",
            "epoch 458, negative log-likelihood 0.1011, w=[ 1.3955488  -1.69395145 -8.02582445]\n",
            "epoch 459, negative log-likelihood 0.1011, w=[ 1.42372193 -1.69323615 -8.02637184]\n",
            "epoch 460, negative log-likelihood 0.1011, w=[ 1.39840038 -1.6948964  -8.03553468]\n",
            "epoch 461, negative log-likelihood 0.1010, w=[ 1.42414997 -1.69430317 -8.03645154]\n",
            "epoch 462, negative log-likelihood 0.1010, w=[ 1.4011751  -1.69587332 -8.045215  ]\n",
            "epoch 463, negative log-likelihood 0.1010, w=[ 1.42464926 -1.69539459 -8.04647809]\n",
            "epoch 464, negative log-likelihood 0.1009, w=[ 1.40387349 -1.69688028 -8.05486659]\n",
            "epoch 465, negative log-likelihood 0.1009, w=[ 1.42521869 -1.69650856 -8.05645289]\n",
            "epoch 466, negative log-likelihood 0.1009, w=[ 1.40649648 -1.69791531 -8.06449046]\n",
            "epoch 467, negative log-likelihood 0.1009, w=[ 1.42585675 -1.69764321 -8.0663773 ]\n",
            "epoch 468, negative log-likelihood 0.1008, w=[ 1.40904537 -1.69897644 -8.07408749]\n",
            "epoch 469, negative log-likelihood 0.1008, w=[ 1.42656161 -1.69879673 -8.07625266]\n",
            "epoch 470, negative log-likelihood 0.1008, w=[ 1.41152184 -1.70006166 -8.08365841]\n",
            "epoch 471, negative log-likelihood 0.1008, w=[ 1.42733106 -1.69996731 -8.08608028]\n",
            "epoch 472, negative log-likelihood 0.1007, w=[ 1.41392787 -1.70116903 -8.09320381]\n",
            "epoch 473, negative log-likelihood 0.1007, w=[ 1.42816265 -1.70115321 -8.09586144]\n",
            "epoch 474, negative log-likelihood 0.1007, w=[ 1.41626575 -1.7022966  -8.10272416]\n",
            "epoch 475, negative log-likelihood 0.1007, w=[ 1.42905366 -1.70235277 -8.10559737]\n",
            "epoch 476, negative log-likelihood 0.1006, w=[ 1.41853803 -1.70344251 -8.11221981]\n",
            "epoch 477, negative log-likelihood 0.1006, w=[ 1.43000114 -1.70356439 -8.11528928]\n",
            "epoch 478, negative log-likelihood 0.1006, w=[ 1.42074748 -1.70460494 -8.12169103]\n",
            "epoch 479, negative log-likelihood 0.1006, w=[ 1.43100203 -1.70478657 -8.12493834]\n",
            "epoch 480, negative log-likelihood 0.1005, w=[ 1.42289701 -1.70578216 -8.13113798]\n",
            "epoch 481, negative log-likelihood 0.1005, w=[ 1.43205309 -1.70601788 -8.13454569]\n",
            "epoch 482, negative log-likelihood 0.1005, w=[ 1.4249897  -1.70697252 -8.14056075]\n",
            "epoch 483, negative log-likelihood 0.1005, w=[ 1.43315103 -1.70725701 -8.1441124 ]\n",
            "epoch 484, negative log-likelihood 0.1005, w=[ 1.42702869 -1.70817447 -8.14995938]\n",
            "epoch 485, negative log-likelihood 0.1004, w=[ 1.43429252 -1.70850274 -8.15363954]\n",
            "epoch 486, negative log-likelihood 0.1004, w=[ 1.42901717 -1.70938653 -8.15933384]\n",
            "epoch 487, negative log-likelihood 0.1004, w=[ 1.43547421 -1.70975396 -8.16312812]\n",
            "epoch 488, negative log-likelihood 0.1004, w=[ 1.43095837 -1.71060735 -8.16868405]\n",
            "epoch 489, negative log-likelihood 0.1004, w=[ 1.4366928  -1.71100963 -8.17257908]\n",
            "epoch 490, negative log-likelihood 0.1004, w=[ 1.43285545 -1.71183567 -8.17800992]\n",
            "epoch 491, negative log-likelihood 0.1003, w=[ 1.43794504 -1.71226883 -8.18199336]\n",
            "epoch 492, negative log-likelihood 0.1003, w=[ 1.43471154 -1.71307033 -8.18731133]\n",
            "epoch 493, negative log-likelihood 0.1003, w=[ 1.43922777 -1.71353072 -8.19137182]\n",
            "epoch 494, negative log-likelihood 0.1003, w=[ 1.4365297  -1.71431024 -8.19658812]\n",
            "epoch 495, negative log-likelihood 0.1003, w=[ 1.44053796 -1.71479455 -8.20071529]\n",
            "epoch 496, negative log-likelihood 0.1002, w=[ 1.43831284 -1.71555445 -8.20584016]\n",
            "epoch 497, negative log-likelihood 0.1002, w=[ 1.44187267 -1.71605964 -8.21002455]\n",
            "epoch 498, negative log-likelihood 0.1002, w=[ 1.44006379 -1.71680207 -8.21506729]\n",
            "epoch 499, negative log-likelihood 0.1002, w=[ 1.44322917 -1.71732542 -8.21930035]\n"
          ]
        }
      ]
    },
    {
      "cell_type": "markdown",
      "source": [
        "# Plot error over iterations"
      ],
      "metadata": {
        "id": "LsTI8F-zi-lG"
      }
    },
    {
      "cell_type": "code",
      "source": [
        "plt.plot(range(max_iter), error_all)\n"
      ],
      "metadata": {
        "id": "cyxRabgFi_2r",
        "colab": {
          "base_uri": "https://localhost:8080/",
          "height": 447
        },
        "outputId": "f498147d-e392-4954-dcf3-85b7604221cd"
      },
      "execution_count": 12,
      "outputs": [
        {
          "output_type": "execute_result",
          "data": {
            "text/plain": [
              "[<matplotlib.lines.Line2D at 0x7fddb10a6aa0>]"
            ]
          },
          "metadata": {},
          "execution_count": 12
        },
        {
          "output_type": "display_data",
          "data": {
            "text/plain": [
              "<Figure size 640x480 with 1 Axes>"
            ],
            "image/png": "[encoded data removed]"
          },
          "metadata": {}
        }
      ]
    },
    {
      "cell_type": "code",
      "source": [
        "# New Learning rate for gradient descent.\n",
        "newlearning_rates = [0.5, 0.3, 0.1, 0.05, 0.01]\n",
        "error_all_rates = []"
      ],
      "metadata": {
        "id": "rMBet3xPQzEd"
      },
      "execution_count": 13,
      "outputs": []
    },
    {
      "cell_type": "code",
      "source": [
        "for restarting in newlearning_rates:\n",
        "  # We start over the initial parameters\n",
        "    w = np.random.rand(3,)  \n",
        "    error_all = []  #Initialize error vector for each learning rate\n",
        "\n",
        "    for iter2 in range(max_iter):\n",
        "        Y_hat = sps.expit(np.dot(X, w))\n",
        "        e2 = -1/max_iter * np.sum( np.multiply(np.log(Y_hat), Y) + np.multiply(np.log(1-Y_hat), (1-Y)))\n",
        "        error_all.append(e2)\n",
        "\n",
        "        grad_e = np.mean(np.multiply((Y_hat - Y), X.T), axis=1)\n",
        "\n",
        "        w_old = w\n",
        "        w = w - eta * grad_e\n",
        "\n",
        "    error_all_rates.append(error_all)\n",
        "\n",
        "# Plot error values for different learning rates\n",
        "for i in range(len(newlearning_rates)):\n",
        "    plt.plot(range(max_iter), error_all_rates[i])\n"
      ],
      "metadata": {
        "colab": {
          "base_uri": "https://localhost:8080/",
          "height": 430
        },
        "id": "PWWk4YqzUGVb",
        "outputId": "4a02ab88-d995-4c57-e339-0a57eeb38f02"
      },
      "execution_count": 14,
      "outputs": [
        {
          "output_type": "display_data",
          "data": {
            "text/plain": [
              "<Figure size 640x480 with 1 Axes>"
            ],
            "image/png": "[encoded data removed]"
          },
          "metadata": {}
        }
      ]
    },
    {
      "cell_type": "code",
      "source": [
        "#Scenario for the stochastic gradient descent\n",
        "# New Learning rate for gradient descent.\n",
        "newlearning_rates2 = [0.5, 0.3, 0.1, 0.05, 0.01]\n",
        "error_all_rates2 = []"
      ],
      "metadata": {
        "id": "-Th_OjdNV5HM"
      },
      "execution_count": 15,
      "outputs": []
    },
    {
      "cell_type": "code",
      "source": [
        "for restarting2 in newlearning_rates2:\n",
        "    w = np.random.rand(3,)  # Re-initialize parameters for each learning rate\n",
        "    error_all = []  # Initialize error vector for each learning rate\n",
        "\n",
        "    for iter3 in range(max_iter):\n",
        "        # Randomly shuffle the training data (source https://appdividend.com/2022/02/19/np-random-permutation/ & https://www.geeksforgeeks.org/ml-stochastic-gradient-descent-sgd/)\n",
        "        indexes = np.random.permutation(len(X))\n",
        "        X_shuffled = X[indexes]\n",
        "        Y_shuffled = Y[indexes]\n",
        "\n",
        "        for i in range(len(X_shuffled)):\n",
        "          x = X_shuffled[i]\n",
        "          y = Y_shuffled[i]\n",
        "          Y_hat = sps.expit(np.dot(x, w))\n",
        "          # Compute the error as before\n",
        "          e3 = -1/max_iter * np.sum( np.multiply(np.log(Y_hat), y) + np.multiply(np.log(1-Y_hat), (1-y)))\n",
        "          error_all.append(e3)\n",
        "\n",
        "          # Compute the gradient for the current example\n",
        "          grad_e = (Y_hat - y) * X\n",
        "          # Update the parameters w = w - restarting2 * grad_e\n",
        "    error_all_rates2.append(error_all)\n",
        "\n",
        "# Plot error values for stochastic gradient descent\n",
        "for i in range(len(newlearning_rates2)):\n",
        "    plt.plot(range(max_iter), error_all_rates2[i])\n"
      ],
      "metadata": {
        "colab": {
          "base_uri": "https://localhost:8080/",
          "height": 763
        },
        "id": "UEdoK5ouZXTX",
        "outputId": "e4f2a7d7-43c1-44ed-e893-d21ef773a6e5"
      },
      "execution_count": 25,
      "outputs": [
        {
          "output_type": "error",
          "ename": "ValueError",
          "evalue": "ignored",
          "traceback": [
            "\u001b[0;31m---------------------------------------------------------------------------\u001b[0m",
            "\u001b[0;31mValueError\u001b[0m                                Traceback (most recent call last)",
            "\u001b[0;32m<ipython-input-25-3966fa0b0864>\u001b[0m in \u001b[0;36m<cell line: 25>\u001b[0;34m()\u001b[0m\n\u001b[1;32m     24\u001b[0m \u001b[0;31m# Plot error values for stochastic gradient descent\u001b[0m\u001b[0;34m\u001b[0m\u001b[0;34m\u001b[0m\u001b[0m\n\u001b[1;32m     25\u001b[0m \u001b[0;32mfor\u001b[0m \u001b[0mi\u001b[0m \u001b[0;32min\u001b[0m \u001b[0mrange\u001b[0m\u001b[0;34m(\u001b[0m\u001b[0mlen\u001b[0m\u001b[0;34m(\u001b[0m\u001b[0mnewlearning_rates2\u001b[0m\u001b[0;34m)\u001b[0m\u001b[0;34m)\u001b[0m\u001b[0;34m:\u001b[0m\u001b[0;34m\u001b[0m\u001b[0;34m\u001b[0m\u001b[0m\n\u001b[0;32m---> 26\u001b[0;31m     \u001b[0mplt\u001b[0m\u001b[0;34m.\u001b[0m\u001b[0mplot\u001b[0m\u001b[0;34m(\u001b[0m\u001b[0mrange\u001b[0m\u001b[0;34m(\u001b[0m\u001b[0mmax_iter\u001b[0m\u001b[0;34m)\u001b[0m\u001b[0;34m,\u001b[0m \u001b[0merror_all_rates2\u001b[0m\u001b[0;34m[\u001b[0m\u001b[0mi\u001b[0m\u001b[0;34m]\u001b[0m\u001b[0;34m)\u001b[0m\u001b[0;34m\u001b[0m\u001b[0;34m\u001b[0m\u001b[0m\n\u001b[0m",
            "\u001b[0;32m/usr/local/lib/python3.10/dist-packages/matplotlib/pyplot.py\u001b[0m in \u001b[0;36mplot\u001b[0;34m(scalex, scaley, data, *args, **kwargs)\u001b[0m\n\u001b[1;32m   2810\u001b[0m \u001b[0;34m@\u001b[0m\u001b[0m_copy_docstring_and_deprecators\u001b[0m\u001b[0;34m(\u001b[0m\u001b[0mAxes\u001b[0m\u001b[0;34m.\u001b[0m\u001b[0mplot\u001b[0m\u001b[0;34m)\u001b[0m\u001b[0;34m\u001b[0m\u001b[0;34m\u001b[0m\u001b[0m\n\u001b[1;32m   2811\u001b[0m \u001b[0;32mdef\u001b[0m \u001b[0mplot\u001b[0m\u001b[0;34m(\u001b[0m\u001b[0;34m*\u001b[0m\u001b[0margs\u001b[0m\u001b[0;34m,\u001b[0m \u001b[0mscalex\u001b[0m\u001b[0;34m=\u001b[0m\u001b[0;32mTrue\u001b[0m\u001b[0;34m,\u001b[0m \u001b[0mscaley\u001b[0m\u001b[0;34m=\u001b[0m\u001b[0;32mTrue\u001b[0m\u001b[0;34m,\u001b[0m \u001b[0mdata\u001b[0m\u001b[0;34m=\u001b[0m\u001b[0;32mNone\u001b[0m\u001b[0;34m,\u001b[0m \u001b[0;34m**\u001b[0m\u001b[0mkwargs\u001b[0m\u001b[0;34m)\u001b[0m\u001b[0;34m:\u001b[0m\u001b[0;34m\u001b[0m\u001b[0;34m\u001b[0m\u001b[0m\n\u001b[0;32m-> 2812\u001b[0;31m     return gca().plot(\n\u001b[0m\u001b[1;32m   2813\u001b[0m         \u001b[0;34m*\u001b[0m\u001b[0margs\u001b[0m\u001b[0;34m,\u001b[0m \u001b[0mscalex\u001b[0m\u001b[0;34m=\u001b[0m\u001b[0mscalex\u001b[0m\u001b[0;34m,\u001b[0m \u001b[0mscaley\u001b[0m\u001b[0;34m=\u001b[0m\u001b[0mscaley\u001b[0m\u001b[0;34m,\u001b[0m\u001b[0;34m\u001b[0m\u001b[0;34m\u001b[0m\u001b[0m\n\u001b[1;32m   2814\u001b[0m         **({\"data\": data} if data is not None else {}), **kwargs)\n",
            "\u001b[0;32m/usr/local/lib/python3.10/dist-packages/matplotlib/axes/_axes.py\u001b[0m in \u001b[0;36mplot\u001b[0;34m(self, scalex, scaley, data, *args, **kwargs)\u001b[0m\n\u001b[1;32m   1686\u001b[0m         \"\"\"\n\u001b[1;32m   1687\u001b[0m         \u001b[0mkwargs\u001b[0m \u001b[0;34m=\u001b[0m \u001b[0mcbook\u001b[0m\u001b[0;34m.\u001b[0m\u001b[0mnormalize_kwargs\u001b[0m\u001b[0;34m(\u001b[0m\u001b[0mkwargs\u001b[0m\u001b[0;34m,\u001b[0m \u001b[0mmlines\u001b[0m\u001b[0;34m.\u001b[0m\u001b[0mLine2D\u001b[0m\u001b[0;34m)\u001b[0m\u001b[0;34m\u001b[0m\u001b[0;34m\u001b[0m\u001b[0m\n\u001b[0;32m-> 1688\u001b[0;31m         \u001b[0mlines\u001b[0m \u001b[0;34m=\u001b[0m \u001b[0;34m[\u001b[0m\u001b[0;34m*\u001b[0m\u001b[0mself\u001b[0m\u001b[0;34m.\u001b[0m\u001b[0m_get_lines\u001b[0m\u001b[0;34m(\u001b[0m\u001b[0;34m*\u001b[0m\u001b[0margs\u001b[0m\u001b[0;34m,\u001b[0m \u001b[0mdata\u001b[0m\u001b[0;34m=\u001b[0m\u001b[0mdata\u001b[0m\u001b[0;34m,\u001b[0m \u001b[0;34m**\u001b[0m\u001b[0mkwargs\u001b[0m\u001b[0;34m)\u001b[0m\u001b[0;34m]\u001b[0m\u001b[0;34m\u001b[0m\u001b[0;34m\u001b[0m\u001b[0m\n\u001b[0m\u001b[1;32m   1689\u001b[0m         \u001b[0;32mfor\u001b[0m \u001b[0mline\u001b[0m \u001b[0;32min\u001b[0m \u001b[0mlines\u001b[0m\u001b[0;34m:\u001b[0m\u001b[0;34m\u001b[0m\u001b[0;34m\u001b[0m\u001b[0m\n\u001b[1;32m   1690\u001b[0m             \u001b[0mself\u001b[0m\u001b[0;34m.\u001b[0m\u001b[0madd_line\u001b[0m\u001b[0;34m(\u001b[0m\u001b[0mline\u001b[0m\u001b[0;34m)\u001b[0m\u001b[0;34m\u001b[0m\u001b[0;34m\u001b[0m\u001b[0m\n",
            "\u001b[0;32m/usr/local/lib/python3.10/dist-packages/matplotlib/axes/_base.py\u001b[0m in \u001b[0;36m__call__\u001b[0;34m(self, data, *args, **kwargs)\u001b[0m\n\u001b[1;32m    309\u001b[0m                 \u001b[0mthis\u001b[0m \u001b[0;34m+=\u001b[0m \u001b[0margs\u001b[0m\u001b[0;34m[\u001b[0m\u001b[0;36m0\u001b[0m\u001b[0;34m]\u001b[0m\u001b[0;34m,\u001b[0m\u001b[0;34m\u001b[0m\u001b[0;34m\u001b[0m\u001b[0m\n\u001b[1;32m    310\u001b[0m                 \u001b[0margs\u001b[0m \u001b[0;34m=\u001b[0m \u001b[0margs\u001b[0m\u001b[0;34m[\u001b[0m\u001b[0;36m1\u001b[0m\u001b[0;34m:\u001b[0m\u001b[0;34m]\u001b[0m\u001b[0;34m\u001b[0m\u001b[0;34m\u001b[0m\u001b[0m\n\u001b[0;32m--> 311\u001b[0;31m             yield from self._plot_args(\n\u001b[0m\u001b[1;32m    312\u001b[0m                 this, kwargs, ambiguous_fmt_datakey=ambiguous_fmt_datakey)\n\u001b[1;32m    313\u001b[0m \u001b[0;34m\u001b[0m\u001b[0m\n",
            "\u001b[0;32m/usr/local/lib/python3.10/dist-packages/matplotlib/axes/_base.py\u001b[0m in \u001b[0;36m_plot_args\u001b[0;34m(self, tup, kwargs, return_kwargs, ambiguous_fmt_datakey)\u001b[0m\n\u001b[1;32m    502\u001b[0m \u001b[0;34m\u001b[0m\u001b[0m\n\u001b[1;32m    503\u001b[0m         \u001b[0;32mif\u001b[0m \u001b[0mx\u001b[0m\u001b[0;34m.\u001b[0m\u001b[0mshape\u001b[0m\u001b[0;34m[\u001b[0m\u001b[0;36m0\u001b[0m\u001b[0;34m]\u001b[0m \u001b[0;34m!=\u001b[0m \u001b[0my\u001b[0m\u001b[0;34m.\u001b[0m\u001b[0mshape\u001b[0m\u001b[0;34m[\u001b[0m\u001b[0;36m0\u001b[0m\u001b[0;34m]\u001b[0m\u001b[0;34m:\u001b[0m\u001b[0;34m\u001b[0m\u001b[0;34m\u001b[0m\u001b[0m\n\u001b[0;32m--> 504\u001b[0;31m             raise ValueError(f\"x and y must have same first dimension, but \"\n\u001b[0m\u001b[1;32m    505\u001b[0m                              f\"have shapes {x.shape} and {y.shape}\")\n\u001b[1;32m    506\u001b[0m         \u001b[0;32mif\u001b[0m \u001b[0mx\u001b[0m\u001b[0;34m.\u001b[0m\u001b[0mndim\u001b[0m \u001b[0;34m>\u001b[0m \u001b[0;36m2\u001b[0m \u001b[0;32mor\u001b[0m \u001b[0my\u001b[0m\u001b[0;34m.\u001b[0m\u001b[0mndim\u001b[0m \u001b[0;34m>\u001b[0m \u001b[0;36m2\u001b[0m\u001b[0;34m:\u001b[0m\u001b[0;34m\u001b[0m\u001b[0;34m\u001b[0m\u001b[0m\n",
            "\u001b[0;31mValueError\u001b[0m: x and y must have same first dimension, but have shapes (500,) and (100000,)"
          ]
        },
        {
          "output_type": "display_data",
          "data": {
            "text/plain": [
              "<Figure size 640x480 with 1 Axes>"
            ],
            "image/png": "[encoded data removed]"
          },
          "metadata": {}
        }
      ]
    }
  ]
}